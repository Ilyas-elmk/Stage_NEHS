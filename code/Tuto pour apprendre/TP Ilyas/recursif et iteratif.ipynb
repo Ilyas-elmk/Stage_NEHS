{
 "cells": [
  {
   "cell_type": "markdown",
   "id": "1e05452c",
   "metadata": {},
   "source": [
    "# Récursif et Itératif ?\n",
    "\n",
    "Il existe deux approche pour résoudre un problème : Itérative et Récursive\n",
    "Parce qu'un exemple me semble plus parlant, nous allons voir après la résolutions du même problème avec les deux approches.\n",
    "\n",
    "Nous allons faire une fonction pour calculer la factorielle d'un nombre !\n"
   ]
  },
  {
   "cell_type": "markdown",
   "id": "48b4f33c",
   "metadata": {},
   "source": [
    "### Itératif :\n",
    "Les approches itératives passent par les notions de boucles **while** et **for**"
   ]
  },
  {
   "cell_type": "code",
   "execution_count": 55,
   "id": "021cfef6",
   "metadata": {},
   "outputs": [],
   "source": [
    "def iterative_factorial(n):\n",
    "    # la valeur de 0! est 1 donc notre valeur de retour par défaut est res = 1\n",
    "    res = 1\n",
    "    # on itère de 1 à n+1 exclu. À chaque tour de boucle on multiplie notre résultat par i\n",
    "    # pour n = 5, on a bien : res = 1 * 1, res = 1 * 2, res = 2 * 3, res = 6 * 4, res = 24 * 5, res = 120\n",
    "    for i in range(1, n + 1):\n",
    "        res = res * i\n",
    "    return res"
   ]
  },
  {
   "cell_type": "markdown",
   "id": "76801450",
   "metadata": {},
   "source": [
    "### Récursif :\n",
    "Les approches récursives consistent en trois points essentiels.\n",
    "\n",
    "* La fonction s'appelle elle même pour résoudre la problèmatique\n",
    "* Un cas par défaut doit être présent afin de ne pas boucler à l'infini\n",
    "* Ce sont les même pramatères, incrémentés ou décrémentés, qui sont passés à l'appel récursif"
   ]
  },
  {
   "cell_type": "code",
   "execution_count": 56,
   "id": "d36bf428",
   "metadata": {},
   "outputs": [],
   "source": [
    "def recursive_factorial(n):\n",
    "    # la valeur de 0! est 1 donc notre cas par défaut renvoie 1\n",
    "    if n == 0:\n",
    "        return 1\n",
    "    # on retourne n * (n - 1)!\n",
    "    # pour n = 5, les appels récursifs font\n",
    "    # 5 * 4! --> 5 * 4 * 3! --> 5 * 4 * 3 * 2! --> 5 * 4 * 3 * 2 * 1! --> 5 * 4 * 3 * 2 * 1 * 1 = 120\n",
    "    return n * recursive_factorial(n - 1)"
   ]
  },
  {
   "cell_type": "code",
   "execution_count": 57,
   "id": "367c934e",
   "metadata": {},
   "outputs": [
    {
     "data": {
      "text/plain": [
       "120"
      ]
     },
     "execution_count": 57,
     "metadata": {},
     "output_type": "execute_result"
    }
   ],
   "source": [
    "iterative_factorial(5)"
   ]
  },
  {
   "cell_type": "code",
   "execution_count": 58,
   "id": "2eecdc9c",
   "metadata": {},
   "outputs": [
    {
     "data": {
      "text/plain": [
       "120"
      ]
     },
     "execution_count": 58,
     "metadata": {},
     "output_type": "execute_result"
    }
   ],
   "source": [
    "recursive_factorial(5)"
   ]
  },
  {
   "cell_type": "markdown",
   "id": "c03835b2",
   "metadata": {},
   "source": [
    "### À ton tour !\n",
    "#### 1 - Essaie d'implémenter la suite de fibonacci avec une approche récursive puis une approche itérative </br></br>\n",
    "La suite de fibonacci se caractèrise par :</br>\n",
    "* F<sub>0</sub> = 1\n",
    "* F<sub>1</sub> = 1\n",
    "* F<sub>n</sub> = F<sub>n-1</sub> + F<sub>n-2</sub>"
   ]
  },
  {
   "cell_type": "code",
   "execution_count": 59,
   "id": "b19913e2",
   "metadata": {},
   "outputs": [],
   "source": [
    "def recursive_fibo(n):\n",
    "    if n <= 1:\n",
    "        return 1\n",
    "    else:\n",
    "        return(recursive_fibo(n-1) + recursive_fibo(n-2))\n",
    "\n",
    "print(recursive_fibo(120))\n",
    "    "
   ]
  },
  {
   "cell_type": "code",
   "execution_count": null,
   "id": "8229123e",
   "metadata": {},
   "outputs": [
    {
     "data": {
      "text/plain": [
       "8"
      ]
     },
     "execution_count": 37,
     "metadata": {},
     "output_type": "execute_result"
    }
   ],
   "source": [
    "def iterative_fibo(n):\n",
    "    a = 1\n",
    "    b = 0\n",
    "    c = 0\n",
    "    for i in range(n):\n",
    "        c = b\n",
    "        b = a\n",
    "        a = c + b\n",
    "        \n",
    "    return a\n",
    "\n",
    "    \n",
    "iterative_fibo(5)\n",
    "    "
   ]
  },
  {
   "cell_type": "code",
   "execution_count": null,
   "id": "3f13942a",
   "metadata": {},
   "outputs": [],
   "source": [
    "assert(recursive_fibo(5) == 8)"
   ]
  },
  {
   "cell_type": "code",
   "execution_count": null,
   "id": "1736b7fb",
   "metadata": {},
   "outputs": [],
   "source": [
    "assert(iterative_fibo(5) == 8)"
   ]
  },
  {
   "cell_type": "markdown",
   "id": "29b8df86",
   "metadata": {},
   "source": [
    "#### 2 - Implémente une fonction pour trouver le maximum dans une liste"
   ]
  },
  {
   "cell_type": "code",
   "execution_count": 2,
   "id": "e8d06216",
   "metadata": {},
   "outputs": [],
   "source": [
    "def recursive_max(array,index=0, max=0):\n",
    "    #La valeur du tableau est égale à la valeur que l'index pointe \n",
    "    valeur_du_tableau = array[index]\n",
    "    # Max prend la valeur de la premiere valeur du Tableau \n",
    "    if index == 0:\n",
    "        max = valeur_du_tableau\n",
    "    # Si la valeur du tableau est plus grande que max, Max prend la valeur du tableau \n",
    "    if max < valeur_du_tableau:\n",
    "        max = valeur_du_tableau\n",
    "    #Si la longeur de la liste est égale à l'index (arrive donc à la fin de la liste) on renvoie max \n",
    "    if len(array) - 1 == index:\n",
    "        return max \n",
    "     \n",
    "        \n",
    "    return recursive_max(array,index + 1,max)\n"
   ]
  },
  {
   "cell_type": "code",
   "execution_count": 3,
   "id": "a8973475",
   "metadata": {},
   "outputs": [],
   "source": [
    "def iterative_max(array):\n",
    "    # la valeur max est égale à la premiere valeur du tableau \n",
    "    valeur_max = array[0]\n",
    "    # à chaque valeur dans array une itération est faite et on initialise valeur\n",
    "    for valeur in array:\n",
    "        # si la valeur est plus grande que la valeur_max alors valeur_max = valeur \n",
    "        if valeur > valeur_max:\n",
    "            valeur_max = valeur\n",
    "    # on retourne valeur_max à la fin\n",
    "    return valeur_max"
   ]
  },
  {
   "cell_type": "code",
   "execution_count": 4,
   "id": "a7472317",
   "metadata": {},
   "outputs": [],
   "source": [
    "assert(recursive_max([1,5,63,-15,47, 5]) == 63)"
   ]
  },
  {
   "cell_type": "code",
   "execution_count": 5,
   "id": "24b31a14",
   "metadata": {},
   "outputs": [],
   "source": [
    "assert(iterative_max([1,5,255,-15,47, 5]) == 255)"
   ]
  },
  {
   "cell_type": "markdown",
   "id": "c1bb8ac3",
   "metadata": {},
   "source": [
    "#### 3 - Implémente une fonction qui determine si un chaine de caractères est un palindrome\n",
    "\n",
    "Un palindrome est un mot qui peut se lire dans les deux sens, comme **kayak**</br>\n",
    "Si tu te sens d'aller plus loin, adapte tes fonctions pour qu'elles détermine si un phrase est un palindrome, en faisant abstraction des espaces, de la ponctuation et des accents. Par exemple : **À Cuba, Anna a bu ça.**"
   ]
  },
  {
   "cell_type": "code",
   "execution_count": 8,
   "id": "f682f352",
   "metadata": {},
   "outputs": [],
   "source": [
    "def recursive_palindrome(string, start, end):\n",
    "    if string[start] != string[end]:\n",
    "        return False\n",
    "    if end <= start:\n",
    "        return True\n",
    "    return recursive_palindrome(string, start + 1, end - 1)"
   ]
  },
  {
   "cell_type": "code",
   "execution_count": 36,
   "id": "947bc6e5",
   "metadata": {},
   "outputs": [],
   "source": [
    "# def iterative_palindrome(string):\n",
    "#     gauche = 0 \n",
    "#     droite=len(string) - 1\n",
    "\n",
    "#     while gauche < droite :\n",
    "#         if string[gauche] != string[droite]:\n",
    "#             return False\n",
    "#         gauche+=1\n",
    "#         droite-=1\n",
    "     \n",
    "\n",
    "#     return True\n",
    "\n",
    "def iterative_palindrome(string):\n",
    "    gauche = 0\n",
    "    droite = len(string) - 1\n",
    "    lim = droite // 2\n",
    "\n",
    "    while string[gauche] == string[droite] and gauche <= lim:\n",
    "        gauche += 1\n",
    "        droite -= 1\n",
    "    \n",
    "    return gauche > lim\n",
    "\n",
    "\n",
    "\n",
    "\n",
    "\n"
   ]
  },
  {
   "cell_type": "code",
   "execution_count": 37,
   "id": "97bd020d",
   "metadata": {},
   "outputs": [],
   "source": [
    "assert(recursive_palindrome(\"kayak\", 0, 4) == True)\n",
    "assert(recursive_palindrome(\"yakak\", 0, 4) == False)"
   ]
  },
  {
   "cell_type": "code",
   "execution_count": 38,
   "id": "6faa757b",
   "metadata": {},
   "outputs": [],
   "source": [
    "assert(iterative_palindrome(\"kayak\") == True)\n",
    "assert(iterative_palindrome(\"yakak\") == False)"
   ]
  },
  {
   "cell_type": "code",
   "execution_count": null,
   "id": "9d1301d3",
   "metadata": {},
   "outputs": [],
   "source": []
  }
 ],
 "metadata": {
  "kernelspec": {
   "display_name": "Python 3 (ipykernel)",
   "language": "python",
   "name": "python3"
  },
  "language_info": {
   "codemirror_mode": {
    "name": "ipython",
    "version": 3
   },
   "file_extension": ".py",
   "mimetype": "text/x-python",
   "name": "python",
   "nbconvert_exporter": "python",
   "pygments_lexer": "ipython3",
   "version": "3.11.9"
  }
 },
 "nbformat": 4,
 "nbformat_minor": 5
}
