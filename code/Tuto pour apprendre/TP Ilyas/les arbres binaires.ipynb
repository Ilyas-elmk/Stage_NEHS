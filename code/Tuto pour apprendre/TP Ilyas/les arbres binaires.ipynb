{
 "cells": [
  {
   "cell_type": "markdown",
   "metadata": {},
   "source": [
    "## Les arbres binaire\n",
    "\n",
    "Les arbre binaire sont une structure de données qui peut se représenter sous la forme d'une hiérarchie dont chaque élément est appelé nœud, le nœud initial étant appelé racine. Dans un arbre binaire, chaque élément possède au plus deux éléments fils au niveau inférieur, habituellement appelés gauche et droit. Du point de vue de ces éléments fils, l'élément dont ils sont issus au niveau supérieur est appelé père. [wikipedia](https://fr.wikipedia.org/wiki/Arbre_binaire)\n",
    "</br>\n",
    "Les arbres binaires peuvent être utilisés dans les systèmes de recherche, dans les arbres de décisions ou encore les algorythmes de tri "
   ]
  },
  {
   "cell_type": "markdown",
   "metadata": {},
   "source": [
    "Les arbres binaires possèdent les attributs suivants :</br>\n",
    " * la racine, point de départ de l'arbre\n",
    " * des nœud, qui peuvent posseder jusquà deux fils\n",
    " * des feuilles, qui sont les nœuds ne possédant pas de fils\n",
    "</br></br>\n",
    "\n",
    "Les arbres binaires ont plusieurs proprietés telles que :\n",
    " * le nombre de nœud\n",
    " * la profondeur, c'est-à-dire la distance entre un nœud et la racine\n",
    " * la hauteur, soit la profondeur maximale d'un nœud\n",
    " * un arbre vide, avec seulement une racine est de hauteur 0"
   ]
  },
  {
   "cell_type": "markdown",
   "metadata": {},
   "source": [
    "Pour commencer, nous allons par définir un structure de données simple representant un nœud "
   ]
  },
  {
   "cell_type": "code",
   "execution_count": 2,
   "metadata": {},
   "outputs": [],
   "source": [
    "class Node():\n",
    "    def __init__(self, value, left=None, right=None):\n",
    "        self.value = value\n",
    "        self.left = left\n",
    "        self.right = right"
   ]
  },
  {
   "cell_type": "markdown",
   "metadata": {},
   "source": [
    "Nous avons bien un nœud avec la possibilité d'avoir un fils gauche et un fils droit.</br>\n",
    "Il faut maintenant être en mesure de se servir de cette structure de données.</br>\n",
    "En effet, on doit pouvoir :\n",
    "* ajouter et supprimer des enfant\n",
    "* le parcourir en ordre prefixe, infixe, suffixe\n",
    "* le parcourir en largeur\n",
    "* le parcourir en profondeur\n",
    "\n",
    "\n",
    "Pour la suite du notebook, on éditera la cellule python ci-après :"
   ]
  },
  {
   "cell_type": "markdown",
   "metadata": {},
   "source": [
    "#### 1. Parcours prefixe\n",
    "\n",
    "On visite d'abord le noeud courrant puis récursivement on parcours le sous-arbre gauche, puis le droit</br>\n",
    "Coder le parcours préfixe dans la fonction pre_order\n",
    "\n",
    "#### 2. Parcours infixe\n",
    "\n",
    "On visite recursivement le sous-arbre gauche, le noeud courrant puis le sous-arbre droit</br>\n",
    "Coder le parcours préfixe dans la fonction in_order\n",
    "\n",
    "#### 3. Parcours postfixe\n",
    "\n",
    "On visite recursivement le sous-arbre gauche, puis droit et enfin le noeud courrant</br>\n",
    "Coder le parcours préfixe dans la fonction post_order\n",
    "\n",
    "#### 4. Parcour profondeur\n",
    "\n",
    "On cherche à visiter les noeuds les plus éloignés de la racine d'abord</br>\n",
    "Les parcours prefixe, infixe et postfixe sont des parcours profondeur\n",
    "\n",
    "#### 5. Parcour largeur\n",
    "\n",
    "On cherche à visiter les noeud les plus proches de la racine d'abord</br>\n",
    "Coder le parcours préfixe dans la fonction breadth_first_order\n",
    "\n",
    "</br>\n",
    "Dans l'arbre suivant, par exemple, </br>\n",
    "<img src=\"data:image/svg+xml;base64,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\" />\n",
    "</br>\n",
    "\n",
    "\n",
    "Pour les différents parcours on a :\n",
    "* prefixe : A, B, D, E, C, F\n",
    "* infixe : D, B, E, A, C, F\n",
    "* postfixe : D, E, B, C, F, A\n",
    "* largeur : A, B, C, D, E, F"
   ]
  },
  {
   "cell_type": "code",
   "execution_count": null,
   "metadata": {},
   "outputs": [],
   "source": [
    "class Node():\n",
    "    def __init__(self, value, left=None, right=None):\n",
    "        self.value = value\n",
    "        self.left = left\n",
    "        self.right = right\n",
    "\n",
    "    def add_child(self, node):\n",
    "        if self.left == None:\n",
    "            self.left = node\n",
    "        elif self.right == None:\n",
    "            self.right = node\n",
    "        else:\n",
    "            print('Node a déjà deux fils')\n",
    "\n",
    "    def insert_child(self,value):\n",
    "        if value < self.value:\n",
    "            if self.left:\n",
    "                self.left.insert_child(value)\n",
    "            else:\n",
    "                self.left = Node(value)\n",
    "                return\n",
    "        else:\n",
    "            if self.right:\n",
    "                self.right.insert_child(value)\n",
    "            else:\n",
    "                self.right = Node(value)\n",
    "                return\n",
    "\n",
    "    def remove_child(self):\n",
    "        pass\n",
    "\n",
    "    def pre_order(self):\n",
    "        pass\n",
    "\n",
    "    def in_order(self):\n",
    "        pass\n",
    "\n",
    "    def post_order(self):\n",
    "        pass\n",
    "\n",
    "    def breadth_first_order(self):\n",
    "        pass\n",
    "\n",
    "    # \n",
    "    def __str__(self):\n",
    "        res = \"\"\n",
    "        if self.left :\n",
    "            res += f\"{self.value} -> {self.left.value}\\n\"\n",
    "            res += str(self.left)\n",
    "        if self.right:\n",
    "            res += f\"{self.value} -> {self.right.value}\\n\"\n",
    "            res += str(self.right)\n",
    "        return res\n",
    "\n"
   ]
  },
  {
   "cell_type": "code",
   "execution_count": null,
   "metadata": {},
   "outputs": [],
   "source": [
    "import graphviz\n",
    "\n",
    "# graphviz.set_jupyter_format()\n",
    "\n",
    "def print_tree(root):\n",
    "    return graphviz.Source(f\"digraph {'{'}{str(root)}{'}'}\")\n"
   ]
  },
  {
   "cell_type": "code",
   "execution_count": null,
   "metadata": {},
   "outputs": [],
   "source": [
    "root = Node(0, Node(1), Node(2))"
   ]
  },
  {
   "cell_type": "code",
   "execution_count": null,
   "metadata": {},
   "outputs": [
    {
     "data": {
      "image/svg+xml": [
       "<?xml version=\"1.0\" encoding=\"UTF-8\" standalone=\"no\"?>\n",
       "<!DOCTYPE svg PUBLIC \"-//W3C//DTD SVG 1.1//EN\"\n",
       " \"http://www.w3.org/Graphics/SVG/1.1/DTD/svg11.dtd\">\n",
       "<!-- Generated by graphviz version 6.0.1 (20220911.1526)\n",
       " -->\n",
       "<!-- Pages: 1 -->\n",
       "<svg width=\"134pt\" height=\"116pt\"\n",
       " viewBox=\"0.00 0.00 134.00 116.00\" xmlns=\"http://www.w3.org/2000/svg\" xmlns:xlink=\"http://www.w3.org/1999/xlink\">\n",
       "<g id=\"graph0\" class=\"graph\" transform=\"scale(1 1) rotate(0) translate(4 112)\">\n",
       "<polygon fill=\"white\" stroke=\"none\" points=\"-4,4 -4,-112 130,-112 130,4 -4,4\"/>\n",
       "<!-- 0 -->\n",
       "<g id=\"node1\" class=\"node\">\n",
       "<title>0</title>\n",
       "<ellipse fill=\"none\" stroke=\"black\" cx=\"63\" cy=\"-90\" rx=\"27\" ry=\"18\"/>\n",
       "<text text-anchor=\"middle\" x=\"63\" y=\"-86.3\" font-family=\"Times New Roman,serif\" font-size=\"14.00\">0</text>\n",
       "</g>\n",
       "<!-- 1 -->\n",
       "<g id=\"node2\" class=\"node\">\n",
       "<title>1</title>\n",
       "<ellipse fill=\"none\" stroke=\"black\" cx=\"27\" cy=\"-18\" rx=\"27\" ry=\"18\"/>\n",
       "<text text-anchor=\"middle\" x=\"27\" y=\"-14.3\" font-family=\"Times New Roman,serif\" font-size=\"14.00\">1</text>\n",
       "</g>\n",
       "<!-- 0&#45;&gt;1 -->\n",
       "<g id=\"edge1\" class=\"edge\">\n",
       "<title>0&#45;&gt;1</title>\n",
       "<path fill=\"none\" stroke=\"black\" d=\"M54.65,-72.76C50.29,-64.28 44.85,-53.71 39.96,-44.2\"/>\n",
       "<polygon fill=\"black\" stroke=\"black\" points=\"42.99,-42.44 35.3,-35.15 36.77,-45.64 42.99,-42.44\"/>\n",
       "</g>\n",
       "<!-- 2 -->\n",
       "<g id=\"node3\" class=\"node\">\n",
       "<title>2</title>\n",
       "<ellipse fill=\"none\" stroke=\"black\" cx=\"99\" cy=\"-18\" rx=\"27\" ry=\"18\"/>\n",
       "<text text-anchor=\"middle\" x=\"99\" y=\"-14.3\" font-family=\"Times New Roman,serif\" font-size=\"14.00\">2</text>\n",
       "</g>\n",
       "<!-- 0&#45;&gt;2 -->\n",
       "<g id=\"edge2\" class=\"edge\">\n",
       "<title>0&#45;&gt;2</title>\n",
       "<path fill=\"none\" stroke=\"black\" d=\"M71.35,-72.76C75.71,-64.28 81.15,-53.71 86.04,-44.2\"/>\n",
       "<polygon fill=\"black\" stroke=\"black\" points=\"89.23,-45.64 90.7,-35.15 83.01,-42.44 89.23,-45.64\"/>\n",
       "</g>\n",
       "</g>\n",
       "</svg>\n"
      ],
      "text/plain": [
       "<graphviz.sources.Source at 0x1afd6cb3790>"
      ]
     },
     "execution_count": 33,
     "metadata": {},
     "output_type": "execute_result"
    }
   ],
   "source": [
    "print_tree(root)"
   ]
  },
  {
   "cell_type": "code",
   "execution_count": null,
   "metadata": {},
   "outputs": [],
   "source": []
  }
 ],
 "metadata": {
  "kernelspec": {
   "display_name": "Python 3",
   "language": "python",
   "name": "python3"
  },
  "language_info": {
   "codemirror_mode": {
    "name": "ipython",
    "version": 3
   },
   "file_extension": ".py",
   "mimetype": "text/x-python",
   "name": "python",
   "nbconvert_exporter": "python",
   "pygments_lexer": "ipython3",
   "version": "3.10.5"
  }
 },
 "nbformat": 4,
 "nbformat_minor": 2
}
