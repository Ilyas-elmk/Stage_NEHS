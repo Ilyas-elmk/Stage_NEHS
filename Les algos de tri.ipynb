{
 "cells": [
  {
   "cell_type": "markdown",
   "id": "d305ac0f",
   "metadata": {},
   "source": [
    "# Les algorithme de tri\n",
    "\n",
    "Les algorithmes de tri sont nombreux. Chacun a son avantage et son inconvenient.</br>\n",
    "Bien que leurs implémentation existent déjà, c'est toujour intéressant et pertinent de savoir comment ils fonctionnent.</br>\n",
    "À travers ce notebook, nous allons aborder différent alorithme de tri (et même en implémenter hihihi)"
   ]
  },
  {
   "cell_type": "markdown",
   "id": "8ebb6fff",
   "metadata": {},
   "source": [
    "### 1 - Le bubble sort\n",
    "\n",
    "Le bubble sort ou tri à bulle est \"un algorithme de tri. Il consiste à comparer répétitivement les éléments consécutifs d'un tableau, et à les permuter lorsqu'ils sont mal triés. Il doit son nom au fait qu'il déplace rapidement les plus grands éléments en fin de tableau, comme des bulles d'air qui remonteraient rapidement à la surface d'un liquide.\" ([wikipedia](https://fr.wikipedia.org/wiki/Tri_%C3%A0_bulles))</br>\n",
    "\n",
    "Le fonctionnement, en pseudo-code est le suivant:</br>\n",
    "```\n",
    "tri_à_bulles(Tableau T)\n",
    "   pour i allant de (taille de T)-1 à 1\n",
    "       pour j allant de 0 à i-1\n",
    "           si T[j+1] < T[j]\n",
    "               (T[j+1], T[j]) ← (T[j], T[j+1])\n",
    "```"
   ]
  },
  {
   "cell_type": "code",
   "execution_count": 8,
   "id": "7ce950c6",
   "metadata": {},
   "outputs": [],
   "source": [
    "def bubble_sort(array):\n",
    "    for i in range(len(array)-1,1):\n",
    "        for j in range(0,i-1):\n",
    "            if array[j+1] < array[j]:\n",
    "                array[j+1] = array[j]\n",
    "                array[j] = array[j+1] \n",
    "    return array"
   ]
  },
  {
   "cell_type": "code",
   "execution_count": 9,
   "id": "e92ca262",
   "metadata": {},
   "outputs": [
    {
     "data": {
      "text/plain": [
       "[1, 5, 6, 3, 4, 8, 9, 6, 4, 2, -4]"
      ]
     },
     "execution_count": 9,
     "metadata": {},
     "output_type": "execute_result"
    }
   ],
   "source": [
    "bubble_sort([1,5,6,3,4,8,9,6,4,2,-4])"
   ]
  },
  {
   "cell_type": "markdown",
   "id": "9ae550d2",
   "metadata": {},
   "source": [
    "### 2 - Selection sort\n",
    "\n",
    "Toujours d'après [wikipedia](https://fr.wikipedia.org/wiki/Tri_par_s%C3%A9lection), \"Le tri par sélection (ou tri par extraction) est un algorithme de tri par comparaison. Cet algorithme est simple, mais considéré comme inefficace car il s'exécute en temps quadratique en fonction du nombre d'éléments à trier, et non en temps pseudo linéaire.\" (en gros, il est simple a faire mais est trèèèès lent)</br>\n",
    "\n",
    "Le fonctionnement, en pseudo-code est le suivant:</br>\n",
    "```  \n",
    "  procédure tri_selection(tableau t)\n",
    "      n ← longueur(t) \n",
    "      pour i de 0 à n - 2\n",
    "          min ← i       \n",
    "          pour j de i + 1 à n - 1\n",
    "              si t[j] < t[min], alors min ← j\n",
    "          fin pour\n",
    "          si min ≠ i, alors échanger t[i] et t[min]\n",
    "      fin pour\n",
    "  fin procédure\n",
    " ```"
   ]
  },
  {
   "cell_type": "code",
   "execution_count": 15,
   "id": "b9bc24da",
   "metadata": {},
   "outputs": [],
   "source": [
    "def selection_sort(array):\n",
    "    n = len(array)\n",
    "    for i in range(n-2):\n",
    "        min = i\n",
    "        for j in range(i+1,n-1):\n",
    "            if array[j] < array[min]:\n",
    "                    min = j\n",
    "        if min != i:\n",
    "            array[i], array[min] = array[min], array[i]\n",
    "                \n",
    "    return array"
   ]
  },
  {
   "cell_type": "code",
   "execution_count": 16,
   "id": "ffeaa0e4",
   "metadata": {},
   "outputs": [
    {
     "data": {
      "text/plain": [
       "[1, 2, 3, 4, 4, 5, 6, 6, 8, 9, -4]"
      ]
     },
     "execution_count": 16,
     "metadata": {},
     "output_type": "execute_result"
    }
   ],
   "source": [
    "selection_sort([1,5,6,3,4,8,9,6,4,2,-4])"
   ]
  },
  {
   "cell_type": "markdown",
   "id": "d2b0168a",
   "metadata": {},
   "source": [
    "### 3 - Insertion sort\n",
    "\n",
    "Selon [wikipedia](https://fr.wikipedia.org/wiki/Tri_par_insertion) (pourquoi changer une équipe qui gagne ? hehe), \"le tri par insertion est un algorithme de tri classique. La plupart des personnes l'utilisent naturellement pour trier des cartes à jouer.</br>\n",
    "\n",
    "En général, le tri par insertion est beaucoup plus lent que d'autres algorithmes comme le tri rapide (ou quicksort) et le tri fusion pour traiter de grandes séquences, car sa complexité asymptotique est quadratique. \"</br>\n",
    "\n",
    "son fonctionnement en pseudo-code est le suivant :\n",
    "\n",
    "```\n",
    "procédure tri_insertion(tableau T)\n",
    "  \n",
    "       pour i de 1 à taille(T) - 1\n",
    "\n",
    "            # mémoriser T[i] dans x\n",
    "            x ← T[i]                            \n",
    "\n",
    "            # décaler les éléments T[0]..T[i-1] qui sont plus grands que x, en partant de T[i-1]\n",
    "            j ← i                               \n",
    "            tant que j > 0 et T[j - 1] > x\n",
    "                     T[j] ← T[j - 1]\n",
    "                     j ← j - 1\n",
    "\n",
    "            # placer x dans le \"trou\" laissé par le décalage\n",
    "            T[j] ← x\n",
    "```"
   ]
  },
  {
   "cell_type": "code",
   "execution_count": 17,
   "id": "e1dfaa0c",
   "metadata": {},
   "outputs": [],
   "source": [
    "def insertion_sort(array):\n",
    "    for i in range(1,len(array)-1):\n",
    "        \n",
    "        x = array[i]\n",
    "\n",
    "        j = i\n",
    "        \n",
    "        while j > 0 and array[j - 1] > x:\n",
    "            array[j] = array[j - 1]\n",
    "            j = j-1\n",
    "\n",
    "        array[j] = x\n",
    "\n",
    "    return array"
   ]
  },
  {
   "cell_type": "code",
   "execution_count": 18,
   "id": "5a7fa5c1",
   "metadata": {
    "scrolled": false
   },
   "outputs": [
    {
     "data": {
      "text/plain": [
       "[1, 2, 3, 4, 4, 5, 6, 6, 8, 9, -4]"
      ]
     },
     "execution_count": 18,
     "metadata": {},
     "output_type": "execute_result"
    }
   ],
   "source": [
    "insertion_sort([1,5,6,3,4,8,9,6,4,2,-4])"
   ]
  },
  {
   "cell_type": "markdown",
   "id": "b931694c",
   "metadata": {},
   "source": [
    "### 4 - Merge sort\n",
    "\n",
    "On commence à connaitre la chanson, [wikipedia](https://fr.wikipedia.org/wiki/Tri_fusion) décrit le merge sort comme \"un algorithme de tri par comparaison stable. Sa complexité temporelle pour une entrée de taille n est de l'ordre de n log n, ce qui est asymptotiquement optimal. Ce tri est basé sur la technique algorithmique diviser pour régner. L'opération principale de l'algorithme est la fusion, qui consiste à réunir deux listes triées en une seule. L'efficacité de l'algorithme vient du fait que deux listes triées peuvent être fusionnées en temps linéaire. \"</br>\n",
    "\n",
    "Le pseudo-code est en deux parties : un première fonction le tri est un autre pour la fusion\n",
    "```\n",
    "entrée : un tableau T\n",
    "sortie : une permutation triée de T\n",
    "fonction triFusion(T[1, …, n])\n",
    "      si n ≤ 1\n",
    "              renvoyer T\n",
    "      sinon\n",
    "              renvoyer fusion(triFusion(T[1, …, n/2]), triFusion(T[n/2 + 1, …, n]))\n",
    "\n",
    "entrée : deux tableaux triés A et B\n",
    "sortie : un tableau trié qui contient exactement les éléments des tableaux A et B\n",
    "fonction fusion(A[1, …, a], B[1, …, b])\n",
    "      si A est le tableau vide\n",
    "              renvoyer B\n",
    "      si B est le tableau vide\n",
    "              renvoyer A\n",
    "      si A[1] ≤ B[1]\n",
    "              renvoyer A[1] ⊕ fusion(A[2, …, a], B)\n",
    "      sinon\n",
    "              renvoyer B[1] ⊕ fusion(A, B[2, …, b])\n",
    "\n",
    "```\n",
    "\n",
    "(je crois que le petit \"⊕\" veut dire concatener les listes...)"
   ]
  },
  {
   "cell_type": "code",
   "execution_count": 35,
   "id": "62f799f6",
   "metadata": {},
   "outputs": [],
   "source": [
    "def merge(A, B):\n",
    "    if A == []:\n",
    "        return B\n",
    "    if B == []:\n",
    "        return A\n",
    "    if A[0] < B[0]:\n",
    "        return [A[0]] + merge(A[1:], B)\n",
    "    else:\n",
    "        return [B[0]] + merge(A, B[1:])\n",
    "\n",
    "def merge_sort(array):\n",
    "    n = len(array)\n",
    "    if n <= 1:\n",
    "        return array\n",
    "    return merge(merge_sort(array[:n//2]), merge_sort(array[n//2:]))"
   ]
  },
  {
   "cell_type": "code",
   "execution_count": 36,
   "id": "03c1ce46",
   "metadata": {},
   "outputs": [
    {
     "data": {
      "text/plain": [
       "[-4, 1, 2, 3, 4, 4, 5, 6, 6, 8, 9]"
      ]
     },
     "execution_count": 36,
     "metadata": {},
     "output_type": "execute_result"
    }
   ],
   "source": [
    "merge_sort([1,5,6,3,4,8,9,6,4,2,-4])"
   ]
  },
  {
   "cell_type": "markdown",
   "id": "b090dcdd",
   "metadata": {},
   "source": [
    "### 5 - Quick sort\n",
    "\n",
    "Le quick sort est aussi basé la méthode de conception diviser pour régner. (cf [wikipedia](https://fr.wikipedia.org/wiki/Tri_rapide))</br>\n",
    "\n",
    "On sélectionne un élément \"pivot\" dans le tableau et répartit les autres éléments en deux sous-ensembles, selon qu'ils sont inférieurs ou supérieurs à l'élément pivot.</br>\n",
    "\n",
    "Le pseudo code fait peur mais rien de bien méchant :\n",
    "\n",
    "```\n",
    "partitionner(tableau T, entier premier, entier dernier, entier pivot)\n",
    "    échanger T[pivot] et T[dernier]  // échange le pivot avec le dernier du tableau , le pivot devient le dernier du tableau\n",
    "    j := premier\n",
    "    pour i de premier à dernier - 1 // la boucle se termine quand i = (dernier élément du tableau).\n",
    "        si T[i] <= T[dernier] alors\n",
    "            échanger T[i] et T[j]\n",
    "            j := j + 1\n",
    "    échanger T[dernier] et T[j]\n",
    "    renvoyer j\n",
    "\n",
    "tri_rapide(tableau T, entier premier, entier dernier)\n",
    "        si premier < dernier alors\n",
    "            pivot := choix_pivot(T, premier, dernier)\n",
    "            pivot := partitionner(T, premier, dernier, pivot)\n",
    "            tri_rapide(T, premier, pivot-1)\n",
    "            tri_rapide(T, pivot+1, dernier)\n",
    "```\n",
    "\n",
    "Dans la page française de wikipedia, on nous parle de choix du pivot. Pour ne pas s'embêter, nous allons faire comme la pange anglaise et prendre comme pivot le dernier element de la liste"
   ]
  },
  {
   "cell_type": "code",
   "execution_count": 3,
   "id": "0206a33c",
   "metadata": {},
   "outputs": [],
   "source": [
    "def partition(array, lo, hi):\n",
    "    pivot = array[hi]\n",
    "    i = lo\n",
    "    \n",
    "    for j in range(lo, hi):\n",
    "        if array[j] <= pivot:\n",
    "            array[i], array[j] = array[j], array[i]\n",
    "            i += 1\n",
    "    array[i], array[hi] = array[hi], array[i]\n",
    "    \n",
    "    return i\n",
    "\n",
    "def quicksort(array, lo, hi):\n",
    "    if lo >= hi or lo < 0:\n",
    "        return\n",
    "\n",
    "    pivot = partition(array, lo, hi)\n",
    "\n",
    "    quicksort(array, lo, pivot - 1)\n",
    "    quicksort(array, pivot + 1, hi)\n",
    "    \n",
    "    return array\n",
    "    "
   ]
  },
  {
   "cell_type": "code",
   "execution_count": 5,
   "id": "462b501f",
   "metadata": {},
   "outputs": [
    {
     "data": {
      "text/plain": [
       "[-4, 1, 2, 3, 4, 4, 5, 6, 6, 8, 9]"
      ]
     },
     "execution_count": 5,
     "metadata": {},
     "output_type": "execute_result"
    }
   ],
   "source": [
    "arr = [1,5,6,3,4,8,9,6,4,2,-4]\n",
    "quicksort(arr, 0, len(arr) - 1)"
   ]
  },
  {
   "cell_type": "markdown",
   "id": "e66b167a",
   "metadata": {},
   "source": [
    "Pour aller plus loin ou pour \"visualiser\" le fonctionnement des différents algorithme, cette [vidéo](https://www.youtube.com/watch?v=kPRA0W1kECg) est pertinente</br>\n",
    "Et notamment ceux implémentés dans ce notebook :</br>\n",
    "* [bubble sort](https://youtu.be/kPRA0W1kECg?si=nXAx1Pl45vORod89&t=240)\n",
    "* [selection sort](https://www.youtube.com/watch?v=kPRA0W1kECg)    \n",
    "* [insertion sort](https://www.youtube.com/watch?v=kPRA0W1kECg&t=10s)\n",
    "* [quick sort](https://www.youtube.com/watch?v=kPRA0W1kECg&t=38s)\n",
    "* [merge sort](https://www.youtube.com/watch?v=kPRA0W1kECg&t=66s)\n"
   ]
  },
  {
   "cell_type": "code",
   "execution_count": null,
   "id": "2c802d31",
   "metadata": {},
   "outputs": [],
   "source": []
  }
 ],
 "metadata": {
  "kernelspec": {
   "display_name": "Python 3 (ipykernel)",
   "language": "python",
   "name": "python3"
  },
  "language_info": {
   "codemirror_mode": {
    "name": "ipython",
    "version": 3
   },
   "file_extension": ".py",
   "mimetype": "text/x-python",
   "name": "python",
   "nbconvert_exporter": "python",
   "pygments_lexer": "ipython3",
   "version": "3.11.9"
  }
 },
 "nbformat": 4,
 "nbformat_minor": 5
}
